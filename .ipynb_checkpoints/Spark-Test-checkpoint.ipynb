{
 "metadata": {
  "name": "",
  "signature": "sha256:41ca512013d8e2de1c19594f8893f9033a912017281dd62e34242b2050f1b619"
 },
 "nbformat": 3,
 "nbformat_minor": 0,
 "worksheets": [
  {
   "cells": [
    {
     "cell_type": "heading",
     "level": 2,
     "metadata": {},
     "source": [
      "Load Shakespeare poem"
     ]
    },
    {
     "cell_type": "code",
     "collapsed": false,
     "input": [
      "shakespeare = sc.textFile(\"sh.txt\")\n",
      "shakespeare.count()"
     ],
     "language": "python",
     "metadata": {},
     "outputs": [
      {
       "metadata": {},
       "output_type": "pyout",
       "prompt_number": 5,
       "text": [
        "199"
       ]
      }
     ],
     "prompt_number": 5
    },
    {
     "cell_type": "heading",
     "level": 2,
     "metadata": {},
     "source": [
      "Print out frist 10 lines"
     ]
    },
    {
     "cell_type": "code",
     "collapsed": false,
     "input": [
      "shakespeare.take(20)"
     ],
     "language": "python",
     "metadata": {},
     "outputs": [
      {
       "metadata": {},
       "output_type": "pyout",
       "prompt_number": 66,
       "text": [
        "[u'  From fairest creatures we desire increase,',\n",
        " u\"  That thereby beauty's rose might never die,\",\n",
        " u'  But as the riper should by time decease,',\n",
        " u'  His tender heir might bear his memory:',\n",
        " u'  But thou contracted to thine own bright eyes,',\n",
        " u\"  Feed'st thy light's flame with self-substantial fuel,\",\n",
        " u'  Making a famine where abundance lies,',\n",
        " u'  Thy self thy foe, to thy sweet self too cruel:',\n",
        " u\"  Thou that art now the world's fresh ornament,\",\n",
        " u'  And only herald to the gaudy spring,',\n",
        " u'  Within thine own bud buriest thy content,',\n",
        " u\"  And tender churl mak'st waste in niggarding:\",\n",
        " u'    Pity the world, or else this glutton be,',\n",
        " u\"    To eat the world's due, by the grave and thee.\",\n",
        " u'',\n",
        " u'',\n",
        " u'                     2',\n",
        " u'  When forty winters shall besiege thy brow,',\n",
        " u\"  And dig deep trenches in thy beauty's field,\",\n",
        " u\"  Thy youth's proud livery so gazed on now,\"]"
       ]
      }
     ],
     "prompt_number": 66
    },
    {
     "cell_type": "heading",
     "level": 2,
     "metadata": {},
     "source": [
      "Create RDD with lines that contain \"love\" substring"
     ]
    },
    {
     "cell_type": "code",
     "collapsed": false,
     "input": [
      "love = shakespeare.filter(lambda line: \"love\" in line)\n",
      "love.take(love.count())"
     ],
     "language": "python",
     "metadata": {},
     "outputs": [
      {
       "metadata": {},
       "output_type": "pyout",
       "prompt_number": 67,
       "text": [
        "[u'  Of his self-love to stop posterity?  ',\n",
        " u'  Calls back the lovely April of her prime,',\n",
        " u'  Unthrifty loveliness why dost thou spend,',\n",
        " u'  The lovely gaze where every eye doth dwell',\n",
        " u'    No love toward others in that bosom sits',\n",
        " u\"  For shame deny that thou bear'st love to any\",\n",
        " u'  Grant if thou wilt, thou art beloved of many,',\n",
        " u'  Shall hate be fairer lodged than gentle love?',\n",
        " u'    Make thee another self for love of me,']"
       ]
      }
     ],
     "prompt_number": 67
    },
    {
     "cell_type": "heading",
     "level": 2,
     "metadata": {},
     "source": [
      "Let's generate a histogram, that contains number of characters per line of a poem"
     ]
    },
    {
     "cell_type": "code",
     "collapsed": false,
     "input": [
      "from matplotlib import pyplot as plot\n",
      "import numpy\n",
      "lines = shakespeare.filter(lambda line: line.strip()).map(lambda line: len(line))\n",
      "chars_count = lines.collect()\n",
      "plot.hist(chars_count, normed=1)\n",
      "plot.ylabel(\"Probability\")\n",
      "plot.xlabel(\"Number of characters per line of a poem\")\n",
      "plot.title(\"Histogram, mean: %4.2f, standard deviation: %4.2f\" %(numpy.mean(chars_count),numpy.std(chars_count)))"
     ],
     "language": "python",
     "metadata": {},
     "outputs": [
      {
       "metadata": {},
       "output_type": "pyout",
       "prompt_number": 73,
       "text": [
        "<matplotlib.text.Text at 0x10621bcd0>"
       ]
      },
      {
       "metadata": {},
       "output_type": "display_data",
       "png": "[encoded data removed]",
       "text": [
        "<matplotlib.figure.Figure at 0x1067110d0>"
       ]
      }
     ],
     "prompt_number": 73
    },
    {
     "cell_type": "code",
     "collapsed": false,
     "input": [],
     "language": "python",
     "metadata": {},
     "outputs": [
      {
       "metadata": {},
       "output_type": "pyout",
       "prompt_number": 78,
       "text": [
        "[1, 1, 1, 2, 2, 3]"
       ]
      }
     ],
     "prompt_number": 78
    }
   ],
   "metadata": {}
  }
 ]
}