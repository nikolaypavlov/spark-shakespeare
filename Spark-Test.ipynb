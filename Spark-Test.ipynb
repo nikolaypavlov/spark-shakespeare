{
 "metadata": {
  "name": "",
  "signature": "sha256:8783fcd4b018e92727f1c0e6cd6086d4acd8494672baddd114a2af4585aa52c2"
 },
 "nbformat": 3,
 "nbformat_minor": 0,
 "worksheets": [
  {
   "cells": [
    {
     "cell_type": "heading",
     "level": 2,
     "metadata": {},
     "source": [
      "Load Shakespeare poems"
     ]
    },
    {
     "cell_type": "code",
     "collapsed": false,
     "input": [
      "shakespeare = sc.textFile(\"sh.txt\")\n",
      "shakespeare.count()"
     ],
     "language": "python",
     "metadata": {},
     "outputs": [
      {
       "metadata": {},
       "output_type": "pyout",
       "prompt_number": 1,
       "text": [
        "124190"
       ]
      }
     ],
     "prompt_number": 1
    },
    {
     "cell_type": "heading",
     "level": 2,
     "metadata": {},
     "source": [
      "Print out frist 10 lines"
     ]
    },
    {
     "cell_type": "code",
     "collapsed": false,
     "input": [
      "for line in shakespeare.take(15):\n",
      "    print(line)"
     ],
     "language": "python",
     "metadata": {},
     "outputs": [
      {
       "output_type": "stream",
       "stream": "stdout",
       "text": [
        "THE SONNETS\n",
        "\n",
        "by William Shakespeare\n",
        "\n",
        "\n",
        "\n",
        "                     1\n",
        "  From fairest creatures we desire increase,\n",
        "  That thereby beauty's rose might never die,\n",
        "  But as the riper should by time decease,\n",
        "  His tender heir might bear his memory:\n",
        "  But thou contracted to thine own bright eyes,\n",
        "  Feed'st thy light's flame with self-substantial fuel,\n",
        "  Making a famine where abundance lies,\n",
        "  Thy self thy foe, to thy sweet self too cruel:\n"
       ]
      }
     ],
     "prompt_number": 4
    },
    {
     "cell_type": "heading",
     "level": 2,
     "metadata": {},
     "source": [
      "Create RDD with lines that contain \"love\" substring"
     ]
    },
    {
     "cell_type": "code",
     "collapsed": false,
     "input": [
      "love = shakespeare.filter(lambda line: \"love\" in line)\n",
      "for line in love.take(10):\n",
      "    print(line)"
     ],
     "language": "python",
     "metadata": {},
     "outputs": [
      {
       "output_type": "stream",
       "stream": "stdout",
       "text": [
        "  Of his self-love to stop posterity?  \n",
        "  Calls back the lovely April of her prime,\n",
        "  Unthrifty loveliness why dost thou spend,\n",
        "  The lovely gaze where every eye doth dwell\n",
        "    No love toward others in that bosom sits\n",
        "  For shame deny that thou bear'st love to any\n",
        "  Grant if thou wilt, thou art beloved of many,\n",
        "  Shall hate be fairer lodged than gentle love?\n",
        "    Make thee another self for love of me,\n",
        "  O that you were your self, but love you are\n"
       ]
      }
     ],
     "prompt_number": 6
    },
    {
     "cell_type": "heading",
     "level": 2,
     "metadata": {},
     "source": [
      "Let's generate a histogram, that contains number of characters per line of a poem"
     ]
    },
    {
     "cell_type": "code",
     "collapsed": false,
     "input": [
      "lines = shakespeare.filter(lambda line: line.strip())\n",
      "num = lines.map(lambda line: len(line))\n",
      "stats = num.stats()"
     ],
     "language": "python",
     "metadata": {},
     "outputs": [],
     "prompt_number": 7
    },
    {
     "cell_type": "code",
     "collapsed": false,
     "input": [
      "from matplotlib import pyplot as plot\n",
      "import numpy\n",
      "plot.hist(num.collect(), normed=1)\n",
      "plot.ylabel(\"Probability\")\n",
      "plot.xlabel(\"Number of characters per line of a poem\")\n",
      "plot.title(\"Histogram, mean: %4.2f, standard deviation: %4.2f\" %(stats.mean(),stats.stdev()))"
     ],
     "language": "python",
     "metadata": {},
     "outputs": [
      {
       "metadata": {},
       "output_type": "pyout",
       "prompt_number": 8,
       "text": [
        "<matplotlib.text.Text at 0x107dbcb10>"
       ]
      },
      {
       "metadata": {},
       "output_type": "display_data",
       "png": "[encoded data removed]",
       "text": [
        "<matplotlib.figure.Figure at 0x107da4c90>"
       ]
      }
     ],
     "prompt_number": 8
    },
    {
     "cell_type": "heading",
     "level": 2,
     "metadata": {},
     "source": [
      "Simple search engine"
     ]
    },
    {
     "cell_type": "markdown",
     "metadata": {},
     "source": [
      "The engine takes words as an input and returns most relevant line. "
     ]
    },
    {
     "cell_type": "heading",
     "level": 3,
     "metadata": {},
     "source": [
      "First let's remove punctuation characters and stem words."
     ]
    },
    {
     "cell_type": "code",
     "collapsed": false,
     "input": [
      "from stemming.porter2 import stem\n",
      "import unicodedata\n",
      "import sys\n",
      "table = dict.fromkeys(i for i in xrange(sys.maxunicode) if unicodedata.category(unichr(i)).startswith('P'))\n",
      "\n",
      "def remove_punctuation(text):\n",
      "    return text.translate(table)\n",
      "\n",
      "def stemmer(sentence):\n",
      "    return ' '.join([stem(word) for word in sentence.split()])\n",
      "\n",
      "stemmed_lines = lines.map(lambda line: stemmer(remove_punctuation(line.lower()))).zipWithIndex()"
     ],
     "language": "python",
     "metadata": {},
     "outputs": [],
     "prompt_number": 52
    },
    {
     "cell_type": "code",
     "collapsed": false,
     "input": [
      "stemmed_lines.take(10)"
     ],
     "language": "python",
     "metadata": {},
     "outputs": [
      {
       "metadata": {},
       "output_type": "pyout",
       "prompt_number": 77,
       "text": [
        "[(u'the sonnet', 0),\n",
        " (u'by william shakespear', 1),\n",
        " (u'1', 2),\n",
        " (u'from fairest creatur we desir increas', 3),\n",
        " (u'that therebi beauti rose might never die', 4),\n",
        " (u'but as the riper should by time deceas', 5),\n",
        " (u'his tender heir might bear his memori', 6),\n",
        " (u'but thou contract to thine own bright eye', 7),\n",
        " (u'feedst thi light flame with selfsubstanti fuel', 8),\n",
        " (u'make a famin where abund lie', 9)]"
       ]
      }
     ],
     "prompt_number": 77
    },
    {
     "cell_type": "heading",
     "level": 3,
     "metadata": {},
     "source": [
      "Calculate terms-document frequencies"
     ]
    },
    {
     "cell_type": "code",
     "collapsed": false,
     "input": [
      "from numpy import array \n",
      "import pyspark.mllib.linalg\n",
      "from pyspark.mllib.classification import LabeledPoint\n",
      "from pyspark.mllib.feature import HashingTF, IDF\n",
      "from collections import Counter\n",
      "import pyspark.mllib.clustering\n",
      "terms = stemmed_lines.map(lambda line: (line[0].split(), line[1]))\n",
      "doc_term_freq = terms.map(lambda x: [(term, freq) for term, freq in Counter(x[0]).iteritems()])\n",
      "doc_term_freq.take(5)"
     ],
     "language": "python",
     "metadata": {},
     "outputs": [
      {
       "metadata": {},
       "output_type": "pyout",
       "prompt_number": 149,
       "text": [
        "[[(u'the', 1), (u'sonnet', 1)],\n",
        " [(u'william', 1), (u'shakespear', 1), (u'by', 1)],\n",
        " [(u'1', 1)],\n",
        " [(u'creatur', 1),\n",
        "  (u'we', 1),\n",
        "  (u'desir', 1),\n",
        "  (u'increas', 1),\n",
        "  (u'from', 1),\n",
        "  (u'fairest', 1)],\n",
        " [(u'therebi', 1),\n",
        "  (u'that', 1),\n",
        "  (u'rose', 1),\n",
        "  (u'never', 1),\n",
        "  (u'beauti', 1),\n",
        "  (u'die', 1),\n",
        "  (u'might', 1)]]"
       ]
      }
     ],
     "prompt_number": 149
    },
    {
     "cell_type": "heading",
     "level": 3,
     "metadata": {},
     "source": [
      "Calculate inverse document frequencies"
     ]
    },
    {
     "cell_type": "code",
     "collapsed": false,
     "input": [
      "doc_freq = doc_term_freq.flatMap(lambda x: x).reduceByKey(add)\n",
      "doc_num = stemmed_lines.count()\n",
      "idfs = doc_freq.map(lambda x: (x[0], log(doc_num/x[1]))).collectAsMap()\n",
      "termIds = dict(zip(idfs.keys(), xrange(len(idfs))))\n",
      "btermIds = sc.broadcast(termIds)\n",
      "bidfs = sc.broadcast(idfs)"
     ],
     "language": "python",
     "metadata": {},
     "outputs": [],
     "prompt_number": 205
    },
    {
     "cell_type": "heading",
     "level": 3,
     "metadata": {},
     "source": [
      "TF-IDF-weighted vector for each document"
     ]
    },
    {
     "cell_type": "code",
     "collapsed": false,
     "input": [
      "vecs = doc_term_freq.map(lambda terms: [(btermIds.value[t[0]], bidfs.value[t[0]] * t[1] / len(terms)) for t in terms])\n",
      "vecs = vecs.map(lambda term: Vectors.sparse(len(btermIds.value), term))"
     ],
     "language": "python",
     "metadata": {},
     "outputs": [],
     "prompt_number": 206
    },
    {
     "cell_type": "code",
     "collapsed": false,
     "input": [
      "vecs.take(5)"
     ],
     "language": "python",
     "metadata": {},
     "outputs": [
      {
       "metadata": {},
       "output_type": "pyout",
       "prompt_number": 207,
       "text": [
        "[SparseVector(19145, {3170: 4.4384, 5592: 0.6931}),\n",
        " SparseVector(19145, {1322: 1.086, 8186: 1.9089, 12455: 2.0357}),\n",
        " SparseVector(19145, {15729: 5.9375}),\n",
        " SparseVector(19145, {1209: 0.5877, 6167: 1.3443, 8673: 1.3227, 10366: 1.1612, 11982: 0.9806, 18091: 0.6269}),\n",
        " SparseVector(19145, {265: 0.8692, 1487: 1.1988, 6374: 0.3139, 6690: 0.7769, 9472: 0.6753, 10621: 0.7223, 16416: 1.0151})]"
       ]
      }
     ],
     "prompt_number": 207
    },
    {
     "cell_type": "code",
     "collapsed": false,
     "input": [
      "btermIds.value.keys()[btermIds.value.values().index(15729)]"
     ],
     "language": "python",
     "metadata": {},
     "outputs": [
      {
       "metadata": {},
       "output_type": "pyout",
       "prompt_number": 208,
       "text": [
        "u'1'"
       ]
      }
     ],
     "prompt_number": 208
    },
    {
     "cell_type": "code",
     "collapsed": false,
     "input": [
      "from pyspark.mllib.clustering import KMeansModel\n",
      "from pyspark.mllib.clustering import KMeans\n",
      "model = KMeans.train(vecs, 10)\n",
      "model.centers"
     ],
     "language": "python",
     "metadata": {},
     "outputs": [
      {
       "metadata": {},
       "output_type": "pyout",
       "prompt_number": 232,
       "text": [
        "[array([ 0.,  0.,  0., ...,  0.,  0.,  0.]),\n",
        " array([ 0.,  0.,  0., ...,  0.,  0.,  0.]),\n",
        " array([ 0.,  0.,  0., ...,  0.,  0.,  0.]),\n",
        " array([ 0.0002009 ,  0.00023184,  0.        , ...,  0.        ,\n",
        "         0.        ,  0.        ]),\n",
        " array([ 0.,  0.,  0., ...,  0.,  0.,  0.]),\n",
        " array([  1.92865881e-04,   1.50182392e-04,   3.86801186e-05, ...,\n",
        "          1.34046298e-04,   1.89811926e-05,   1.78848550e-04]),\n",
        " array([ 0.        ,  0.00319425,  0.        , ...,  0.        ,\n",
        "         0.        ,  0.        ]),\n",
        " array([ 0.        ,  0.00054496,  0.        , ...,  0.        ,\n",
        "         0.        ,  0.        ]),\n",
        " array([ 0.,  0.,  0., ...,  0.,  0.,  0.]),\n",
        " array([ 0.,  0.,  0., ...,  0.,  0.,  0.])]"
       ]
      }
     ],
     "prompt_number": 232
    },
    {
     "cell_type": "code",
     "collapsed": false,
     "input": [
      "dst = vecs.map(lambda vec: vec.squared_distance(model.centers[0]))\n",
      "dst.count()"
     ],
     "language": "python",
     "metadata": {},
     "outputs": []
    }
   ],
   "metadata": {}
  }
 ]
}